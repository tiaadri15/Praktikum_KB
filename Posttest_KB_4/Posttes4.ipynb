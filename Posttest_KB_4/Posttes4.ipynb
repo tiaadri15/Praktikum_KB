{
 "cells": [
  {
   "cell_type": "markdown",
   "id": "faa616bb-e61d-4641-92a6-bd2fd1d91000",
   "metadata": {},
   "source": [
    "# Nama : Adriati Manuk Allo\n",
    "# NIM  : 2209106018\n",
    "# Kelas: A1 22\n",
    "\n",
    "## Posttest 4 \n",
    "## Praktikum Mata Kuliah Kecerdasan Buatan"
   ]
  },
  {
   "cell_type": "markdown",
   "id": "a0ed37bb-944e-43b0-9995-952f59ab37f3",
   "metadata": {},
   "source": [
    "## Data Cleaning"
   ]
  },
  {
   "cell_type": "markdown",
   "id": "2a1466ba-d9f5-44e2-963f-eac83396d733",
   "metadata": {},
   "source": [
    "#### SOAL : Lakukan Data cleaning pada data dengan nilai null (jika tidak ada nilai null pada dataset, maka buatlah menjadi ada). Ganti nilai null sesuai ketentuan. (bilangan bulat : median/modus, bilangan desimal : mean, tulisan : modus). Nilai plus jika strategy yang digunakan menggunakan 3 nilai"
   ]
  },
  {
   "cell_type": "code",
   "execution_count": 1,
   "id": "8f4591e9-c966-400d-b2ca-161e8f3260cb",
   "metadata": {},
   "outputs": [],
   "source": [
    "from sklearn.impute import SimpleImputer\n",
    "import pandas as pd"
   ]
  },
  {
   "cell_type": "code",
   "execution_count": 2,
   "id": "5f1f1307-c412-4a40-ade6-b29d550cd0d5",
   "metadata": {},
   "outputs": [
    {
     "data": {
      "text/html": [
       "<div>\n",
       "<style scoped>\n",
       "    .dataframe tbody tr th:only-of-type {\n",
       "        vertical-align: middle;\n",
       "    }\n",
       "\n",
       "    .dataframe tbody tr th {\n",
       "        vertical-align: top;\n",
       "    }\n",
       "\n",
       "    .dataframe thead th {\n",
       "        text-align: right;\n",
       "    }\n",
       "</style>\n",
       "<table border=\"1\" class=\"dataframe\">\n",
       "  <thead>\n",
       "    <tr style=\"text-align: right;\">\n",
       "      <th></th>\n",
       "      <th>model</th>\n",
       "      <th>year</th>\n",
       "      <th>price</th>\n",
       "      <th>transmission</th>\n",
       "      <th>mileage</th>\n",
       "      <th>fuelType</th>\n",
       "      <th>tax</th>\n",
       "      <th>mpg</th>\n",
       "      <th>engineSize</th>\n",
       "    </tr>\n",
       "  </thead>\n",
       "  <tbody>\n",
       "    <tr>\n",
       "      <th>0</th>\n",
       "      <td>Fiesta</td>\n",
       "      <td>2017</td>\n",
       "      <td>12000</td>\n",
       "      <td>Automatic</td>\n",
       "      <td>15944</td>\n",
       "      <td>Petrol</td>\n",
       "      <td>150</td>\n",
       "      <td>57.7</td>\n",
       "      <td>1.0</td>\n",
       "    </tr>\n",
       "    <tr>\n",
       "      <th>1</th>\n",
       "      <td>Focus</td>\n",
       "      <td>2018</td>\n",
       "      <td>14000</td>\n",
       "      <td>Manual</td>\n",
       "      <td>9083</td>\n",
       "      <td>Petrol</td>\n",
       "      <td>150</td>\n",
       "      <td>57.7</td>\n",
       "      <td>1.0</td>\n",
       "    </tr>\n",
       "    <tr>\n",
       "      <th>2</th>\n",
       "      <td>Focus</td>\n",
       "      <td>2017</td>\n",
       "      <td>13000</td>\n",
       "      <td>Manual</td>\n",
       "      <td>12456</td>\n",
       "      <td>Petrol</td>\n",
       "      <td>150</td>\n",
       "      <td>57.7</td>\n",
       "      <td>1.0</td>\n",
       "    </tr>\n",
       "    <tr>\n",
       "      <th>3</th>\n",
       "      <td>Fiesta</td>\n",
       "      <td>2019</td>\n",
       "      <td>17500</td>\n",
       "      <td>Manual</td>\n",
       "      <td>10460</td>\n",
       "      <td>Petrol</td>\n",
       "      <td>145</td>\n",
       "      <td>40.3</td>\n",
       "      <td>1.5</td>\n",
       "    </tr>\n",
       "    <tr>\n",
       "      <th>4</th>\n",
       "      <td>Fiesta</td>\n",
       "      <td>2019</td>\n",
       "      <td>16500</td>\n",
       "      <td>Automatic</td>\n",
       "      <td>1482</td>\n",
       "      <td>Petrol</td>\n",
       "      <td>145</td>\n",
       "      <td>48.7</td>\n",
       "      <td>1.0</td>\n",
       "    </tr>\n",
       "  </tbody>\n",
       "</table>\n",
       "</div>"
      ],
      "text/plain": [
       "     model  year  price transmission  mileage fuelType  tax   mpg  engineSize\n",
       "0   Fiesta  2017  12000    Automatic    15944   Petrol  150  57.7         1.0\n",
       "1    Focus  2018  14000       Manual     9083   Petrol  150  57.7         1.0\n",
       "2    Focus  2017  13000       Manual    12456   Petrol  150  57.7         1.0\n",
       "3   Fiesta  2019  17500       Manual    10460   Petrol  145  40.3         1.5\n",
       "4   Fiesta  2019  16500    Automatic     1482   Petrol  145  48.7         1.0"
      ]
     },
     "execution_count": 2,
     "metadata": {},
     "output_type": "execute_result"
    }
   ],
   "source": [
    "df = pd.read_csv('ford.csv')\n",
    "df.head()"
   ]
  },
  {
   "cell_type": "code",
   "execution_count": 3,
   "id": "a49d7302-ae9f-407a-b4e3-6755ac3abbe4",
   "metadata": {},
   "outputs": [
    {
     "name": "stdout",
     "output_type": "stream",
     "text": [
      "<class 'pandas.core.frame.DataFrame'>\n",
      "RangeIndex: 17966 entries, 0 to 17965\n",
      "Data columns (total 9 columns):\n",
      " #   Column        Non-Null Count  Dtype  \n",
      "---  ------        --------------  -----  \n",
      " 0   model         17966 non-null  object \n",
      " 1   year          17966 non-null  int64  \n",
      " 2   price         17966 non-null  int64  \n",
      " 3   transmission  17966 non-null  object \n",
      " 4   mileage       17966 non-null  int64  \n",
      " 5   fuelType      17966 non-null  object \n",
      " 6   tax           17966 non-null  int64  \n",
      " 7   mpg           17966 non-null  float64\n",
      " 8   engineSize    17966 non-null  float64\n",
      "dtypes: float64(2), int64(4), object(3)\n",
      "memory usage: 1.2+ MB\n"
     ]
    }
   ],
   "source": [
    "df.info()"
   ]
  },
  {
   "cell_type": "code",
   "execution_count": 4,
   "id": "c5559437-5c2e-4066-968f-8cec7efc5c34",
   "metadata": {},
   "outputs": [
    {
     "data": {
      "text/plain": [
       "model           0\n",
       "year            0\n",
       "price           0\n",
       "transmission    0\n",
       "mileage         0\n",
       "fuelType        0\n",
       "tax             0\n",
       "mpg             0\n",
       "engineSize      0\n",
       "dtype: int64"
      ]
     },
     "execution_count": 4,
     "metadata": {},
     "output_type": "execute_result"
    }
   ],
   "source": [
    "df.isnull().sum()"
   ]
  },
  {
   "cell_type": "markdown",
   "id": "0fcae8ad-0ac0-47cb-ac6b-c699aee9bbc2",
   "metadata": {},
   "source": [
    "Karena setelah di cek tidak ada nilai null, maka kita akan membuat data menjadi ada nilai nullnya"
   ]
  },
  {
   "cell_type": "markdown",
   "id": "cf5ca5bb-8c47-44b8-98f2-e8172602f556",
   "metadata": {},
   "source": [
    "Untuk membuat datanya menjadi null, buka file \"ford.csv\" di excel kemudian hapus beberapa record (kolomnya terserah)"
   ]
  },
  {
   "cell_type": "markdown",
   "id": "990dca21-ec2c-47a1-83ab-7b106f3e5679",
   "metadata": {},
   "source": [
    "Membaca kembali file yang datanya sudah ada nilai nullnya"
   ]
  },
  {
   "cell_type": "code",
   "execution_count": 45,
   "id": "c74606fb-d8ae-428e-a9d0-371bde835492",
   "metadata": {},
   "outputs": [
    {
     "data": {
      "text/html": [
       "<div>\n",
       "<style scoped>\n",
       "    .dataframe tbody tr th:only-of-type {\n",
       "        vertical-align: middle;\n",
       "    }\n",
       "\n",
       "    .dataframe tbody tr th {\n",
       "        vertical-align: top;\n",
       "    }\n",
       "\n",
       "    .dataframe thead th {\n",
       "        text-align: right;\n",
       "    }\n",
       "</style>\n",
       "<table border=\"1\" class=\"dataframe\">\n",
       "  <thead>\n",
       "    <tr style=\"text-align: right;\">\n",
       "      <th></th>\n",
       "      <th>model</th>\n",
       "      <th>year</th>\n",
       "      <th>price</th>\n",
       "      <th>transmission</th>\n",
       "      <th>mileage</th>\n",
       "      <th>fuelType</th>\n",
       "      <th>tax</th>\n",
       "      <th>mpg</th>\n",
       "      <th>engineSize</th>\n",
       "    </tr>\n",
       "  </thead>\n",
       "  <tbody>\n",
       "    <tr>\n",
       "      <th>0</th>\n",
       "      <td>Fiesta</td>\n",
       "      <td>217</td>\n",
       "      <td>12000</td>\n",
       "      <td>Automatic</td>\n",
       "      <td>15944</td>\n",
       "      <td>Petrol</td>\n",
       "      <td>150.0</td>\n",
       "      <td>57.7</td>\n",
       "      <td>1.0</td>\n",
       "    </tr>\n",
       "    <tr>\n",
       "      <th>1</th>\n",
       "      <td>Focus</td>\n",
       "      <td>2018</td>\n",
       "      <td>14000</td>\n",
       "      <td>Manual</td>\n",
       "      <td>9083</td>\n",
       "      <td>Petrol</td>\n",
       "      <td>150.0</td>\n",
       "      <td>57.7</td>\n",
       "      <td>1.0</td>\n",
       "    </tr>\n",
       "    <tr>\n",
       "      <th>2</th>\n",
       "      <td>Focus</td>\n",
       "      <td>2017</td>\n",
       "      <td>13000</td>\n",
       "      <td>Manual</td>\n",
       "      <td>12456</td>\n",
       "      <td>Petrol</td>\n",
       "      <td>150.0</td>\n",
       "      <td>57.7</td>\n",
       "      <td>1.0</td>\n",
       "    </tr>\n",
       "    <tr>\n",
       "      <th>3</th>\n",
       "      <td>Fiesta</td>\n",
       "      <td>2019</td>\n",
       "      <td>17500</td>\n",
       "      <td>Manual</td>\n",
       "      <td>10460</td>\n",
       "      <td>Petrol</td>\n",
       "      <td>145.0</td>\n",
       "      <td>40.3</td>\n",
       "      <td>1.5</td>\n",
       "    </tr>\n",
       "    <tr>\n",
       "      <th>4</th>\n",
       "      <td>Fiesta</td>\n",
       "      <td>2019</td>\n",
       "      <td>16500</td>\n",
       "      <td>Automatic</td>\n",
       "      <td>1482</td>\n",
       "      <td>Petrol</td>\n",
       "      <td>145.0</td>\n",
       "      <td>48.7</td>\n",
       "      <td>1.0</td>\n",
       "    </tr>\n",
       "  </tbody>\n",
       "</table>\n",
       "</div>"
      ],
      "text/plain": [
       "     model  year  price transmission  mileage fuelType    tax   mpg  \\\n",
       "0   Fiesta   217  12000    Automatic    15944   Petrol  150.0  57.7   \n",
       "1    Focus  2018  14000       Manual     9083   Petrol  150.0  57.7   \n",
       "2    Focus  2017  13000       Manual    12456   Petrol  150.0  57.7   \n",
       "3   Fiesta  2019  17500       Manual    10460   Petrol  145.0  40.3   \n",
       "4   Fiesta  2019  16500    Automatic     1482   Petrol  145.0  48.7   \n",
       "\n",
       "   engineSize  \n",
       "0         1.0  \n",
       "1         1.0  \n",
       "2         1.0  \n",
       "3         1.5  \n",
       "4         1.0  "
      ]
     },
     "execution_count": 45,
     "metadata": {},
     "output_type": "execute_result"
    }
   ],
   "source": [
    "df = pd.read_csv('ford.csv')\n",
    "df.head()"
   ]
  },
  {
   "cell_type": "code",
   "execution_count": 46,
   "id": "9963467c-f88f-4495-8d51-bff1aee970a3",
   "metadata": {},
   "outputs": [
    {
     "data": {
      "text/plain": [
       "model            0\n",
       "year             0\n",
       "price            0\n",
       "transmission     0\n",
       "mileage          0\n",
       "fuelType         8\n",
       "tax             18\n",
       "mpg              0\n",
       "engineSize      10\n",
       "dtype: int64"
      ]
     },
     "execution_count": 46,
     "metadata": {},
     "output_type": "execute_result"
    }
   ],
   "source": [
    "df.isnull().sum()"
   ]
  },
  {
   "cell_type": "markdown",
   "id": "d143b900-4d89-416a-b655-f4d8b93f3424",
   "metadata": {},
   "source": [
    "Dapat dilihat, sekarang kolom tax terdapat 18 record yang nilainya null, kolom engineZine terdapat 10 record yang nilainya null, dan kolom fuelType terdapat 8 record yang nilainya null."
   ]
  },
  {
   "cell_type": "markdown",
   "id": "7af8afe4-6087-4083-a318-806dd38865af",
   "metadata": {},
   "source": [
    "Mengganti tax dengan mean"
   ]
  },
  {
   "cell_type": "code",
   "execution_count": 47,
   "id": "4d4b78bb-e9d4-448e-9afe-c660ead7f9fd",
   "metadata": {},
   "outputs": [],
   "source": [
    "si_mean = SimpleImputer(strategy='mean')\n",
    "df['tax'] = si_mean.fit_transform(df[['tax']])"
   ]
  },
  {
   "cell_type": "code",
   "execution_count": 48,
   "id": "4ca4787c-181b-483d-bc06-1d155dd809df",
   "metadata": {},
   "outputs": [
    {
     "data": {
      "text/plain": [
       "113.42695564965456"
      ]
     },
     "execution_count": 48,
     "metadata": {},
     "output_type": "execute_result"
    }
   ],
   "source": [
    "df['tax'].mean()"
   ]
  },
  {
   "cell_type": "code",
   "execution_count": 49,
   "id": "7611505a-5b50-487f-8bff-d9135c896bc6",
   "metadata": {},
   "outputs": [
    {
     "data": {
      "text/plain": [
       "model            0\n",
       "year             0\n",
       "price            0\n",
       "transmission     0\n",
       "mileage          0\n",
       "fuelType         8\n",
       "tax              0\n",
       "mpg              0\n",
       "engineSize      10\n",
       "dtype: int64"
      ]
     },
     "execution_count": 49,
     "metadata": {},
     "output_type": "execute_result"
    }
   ],
   "source": [
    "df.isnull().sum()"
   ]
  },
  {
   "cell_type": "markdown",
   "id": "da318eaf-6d1c-42f6-8579-546325c47873",
   "metadata": {},
   "source": [
    "Nilai null pada kolom tax berhasil diganti dengan nilai mean"
   ]
  },
  {
   "cell_type": "code",
   "execution_count": 50,
   "id": "2774522f-ec69-48dc-ad55-75648e3439c6",
   "metadata": {},
   "outputs": [
    {
     "data": {
      "text/html": [
       "<div>\n",
       "<style scoped>\n",
       "    .dataframe tbody tr th:only-of-type {\n",
       "        vertical-align: middle;\n",
       "    }\n",
       "\n",
       "    .dataframe tbody tr th {\n",
       "        vertical-align: top;\n",
       "    }\n",
       "\n",
       "    .dataframe thead th {\n",
       "        text-align: right;\n",
       "    }\n",
       "</style>\n",
       "<table border=\"1\" class=\"dataframe\">\n",
       "  <thead>\n",
       "    <tr style=\"text-align: right;\">\n",
       "      <th></th>\n",
       "      <th>fuelType</th>\n",
       "    </tr>\n",
       "  </thead>\n",
       "  <tbody>\n",
       "    <tr>\n",
       "      <th>count</th>\n",
       "      <td>17958</td>\n",
       "    </tr>\n",
       "    <tr>\n",
       "      <th>unique</th>\n",
       "      <td>5</td>\n",
       "    </tr>\n",
       "    <tr>\n",
       "      <th>top</th>\n",
       "      <td>Petrol</td>\n",
       "    </tr>\n",
       "    <tr>\n",
       "      <th>freq</th>\n",
       "      <td>12173</td>\n",
       "    </tr>\n",
       "  </tbody>\n",
       "</table>\n",
       "</div>"
      ],
      "text/plain": [
       "       fuelType\n",
       "count     17958\n",
       "unique        5\n",
       "top      Petrol\n",
       "freq      12173"
      ]
     },
     "execution_count": 50,
     "metadata": {},
     "output_type": "execute_result"
    }
   ],
   "source": [
    "df[['fuelType']].describe()"
   ]
  },
  {
   "cell_type": "markdown",
   "id": "45a0b002-ddf5-4689-ab44-b8ccf309c227",
   "metadata": {},
   "source": [
    "Mengganti fuelType dengan nilai modus"
   ]
  },
  {
   "cell_type": "code",
   "execution_count": 51,
   "id": "8bed5209-4e85-4b0a-b591-862331eb2edb",
   "metadata": {},
   "outputs": [],
   "source": [
    "si_most_frequent = SimpleImputer(strategy='most_frequent')\n",
    "df[['fuelType']] = si_most_frequent.fit_transform(df[['fuelType']])"
   ]
  },
  {
   "cell_type": "code",
   "execution_count": 52,
   "id": "03d925b9-0b48-4008-9ba9-a7efd1907a30",
   "metadata": {},
   "outputs": [
    {
     "data": {
      "text/plain": [
       "model            0\n",
       "year             0\n",
       "price            0\n",
       "transmission     0\n",
       "mileage          0\n",
       "fuelType         0\n",
       "tax              0\n",
       "mpg              0\n",
       "engineSize      10\n",
       "dtype: int64"
      ]
     },
     "execution_count": 52,
     "metadata": {},
     "output_type": "execute_result"
    }
   ],
   "source": [
    "df.isnull().sum()"
   ]
  },
  {
   "cell_type": "markdown",
   "id": "d9538941-5b0c-4001-abe9-5cb4a7c0797f",
   "metadata": {},
   "source": [
    "Nilai null pada kolom fuelType berhasil diganti dengan nilai modus"
   ]
  },
  {
   "cell_type": "markdown",
   "id": "5e7292c0-3ea0-47ec-b3e8-7e7ac0d2a1e7",
   "metadata": {},
   "source": [
    "Mengganti engineSize dengan nilai median"
   ]
  },
  {
   "cell_type": "code",
   "execution_count": 53,
   "id": "e3ea6a21-7867-403d-88b6-7d096ec70e57",
   "metadata": {},
   "outputs": [],
   "source": [
    "si_median = SimpleImputer(strategy='median')\n",
    "df[['engineSize']] = si_median.fit_transform(df[['engineSize']])"
   ]
  },
  {
   "cell_type": "code",
   "execution_count": 54,
   "id": "17cea95f-c236-4b7d-a3c1-80c7162dda6a",
   "metadata": {},
   "outputs": [
    {
     "data": {
      "text/plain": [
       "model           0\n",
       "year            0\n",
       "price           0\n",
       "transmission    0\n",
       "mileage         0\n",
       "fuelType        0\n",
       "tax             0\n",
       "mpg             0\n",
       "engineSize      0\n",
       "dtype: int64"
      ]
     },
     "execution_count": 54,
     "metadata": {},
     "output_type": "execute_result"
    }
   ],
   "source": [
    "df.isnull().sum()"
   ]
  },
  {
   "cell_type": "markdown",
   "id": "0eced069-b8ca-4bbf-a104-64c74af2208c",
   "metadata": {},
   "source": [
    "Nilai null pada kolom engineSize berhasil diganti dengan nilai median"
   ]
  },
  {
   "cell_type": "markdown",
   "id": "2e1d0886-5ae6-435b-9d80-7b65723e7fd3",
   "metadata": {},
   "source": [
    "#### SOAL : Lakukan Data cleaning pada data dengan nilai duplikat. (Jika tidak ada nilai duplikat pada dataset, maka buatlah menjadi ada)"
   ]
  },
  {
   "cell_type": "code",
   "execution_count": 55,
   "id": "24e44d7e-4bc4-4f60-b8e9-b119fac119d7",
   "metadata": {},
   "outputs": [
    {
     "data": {
      "text/plain": [
       "152"
      ]
     },
     "execution_count": 55,
     "metadata": {},
     "output_type": "execute_result"
    }
   ],
   "source": [
    "df. duplicated().sum()"
   ]
  },
  {
   "cell_type": "markdown",
   "id": "a5c608ca-e3d0-4592-9d3e-83009b480d36",
   "metadata": {},
   "source": [
    "Dapat dilihat bahwa jumlah data duplikat pada dataset \"ford\" sebanyak 152 data"
   ]
  },
  {
   "cell_type": "markdown",
   "id": "a56306b8-10cb-4fc5-bba4-39d4eecb5287",
   "metadata": {},
   "source": [
    "Untuk menghapus nilai duplikat kita dapat menggunakan command \"drop_duplicates\" dari pandas"
   ]
  },
  {
   "cell_type": "code",
   "execution_count": 56,
   "id": "6cbbffe8-2cff-49dd-8531-51374f802e3a",
   "metadata": {},
   "outputs": [],
   "source": [
    "df.drop_duplicates(inplace=True)"
   ]
  },
  {
   "cell_type": "code",
   "execution_count": 57,
   "id": "6ac862fa-111e-4549-b179-8ac8776957e0",
   "metadata": {},
   "outputs": [
    {
     "data": {
      "text/plain": [
       "0"
      ]
     },
     "execution_count": 57,
     "metadata": {},
     "output_type": "execute_result"
    }
   ],
   "source": [
    "df. duplicated().sum()"
   ]
  },
  {
   "cell_type": "markdown",
   "id": "f890b8b8-8dfc-438e-aab7-1fcfa3ec1227",
   "metadata": {},
   "source": [
    "Setelah di hapus dan dilakukan pengecekan kembali dengan menggunakan command \"df_duplicated().sum()\" jumlah data duplikat menjadi 0"
   ]
  },
  {
   "cell_type": "markdown",
   "id": "63719f33-b1b8-4e6d-80f3-579667d5d06d",
   "metadata": {},
   "source": [
    "## Data Transformation"
   ]
  },
  {
   "cell_type": "markdown",
   "id": "6c598b60-c64b-4ba2-ba52-dfb1c618292d",
   "metadata": {},
   "source": [
    "#### SOAL : Lakukan normalisasi data pada salah satu attribute menggunakan Min Max scaler (buatlah copy dataset terlebih dahulu)"
   ]
  },
  {
   "cell_type": "markdown",
   "id": "c2498e8b-567d-4984-bae4-e00bcb5eec51",
   "metadata": {},
   "source": [
    "##### Normalisasi"
   ]
  },
  {
   "cell_type": "code",
   "execution_count": 59,
   "id": "a1af7459-6844-4afa-b1a5-8d2345e69b3b",
   "metadata": {},
   "outputs": [],
   "source": [
    "from sklearn.preprocessing import MinMaxScaler"
   ]
  },
  {
   "cell_type": "code",
   "execution_count": 90,
   "id": "cd055ec6-2659-41b6-85ee-4cc9a89c8d7f",
   "metadata": {},
   "outputs": [
    {
     "data": {
      "text/plain": [
       "model            object\n",
       "year              int64\n",
       "price             int64\n",
       "transmission     object\n",
       "mileage           int64\n",
       "fuelType         object\n",
       "tax             float64\n",
       "mpg             float64\n",
       "engineSize      float64\n",
       "dtype: object"
      ]
     },
     "execution_count": 90,
     "metadata": {},
     "output_type": "execute_result"
    }
   ],
   "source": [
    "df_mm = df.copy()\n",
    "df_mm.dtypes"
   ]
  },
  {
   "cell_type": "code",
   "execution_count": 92,
   "id": "24d933ec-5dd3-4cae-b0d3-9580669614f6",
   "metadata": {},
   "outputs": [
    {
     "name": "stdout",
     "output_type": "stream",
     "text": [
      "Kolom price sebelum normalisasi:\n",
      "Max:  54995\n",
      "Min:  495 \n",
      "\n",
      "Kolom price setelah normalisasi:\n",
      "Max:  1.0\n",
      "Min:  0.0 \n",
      "\n"
     ]
    }
   ],
   "source": [
    "mm = MinMaxScaler()\n",
    "df_mm[['price']] = mm.fit_transform(df_mm[['price']])\n",
    "\n",
    "print(\"Kolom price sebelum normalisasi:\")\n",
    "print(\"Max: \", df['price'].max())\n",
    "print(\"Min: \",df['price'].min(), \"\\n\")\n",
    "\n",
    "print(\"Kolom price setelah normalisasi:\")\n",
    "print(\"Max: \", df_mm['price'].max())\n",
    "print(\"Min: \",df_mm['price'].min(), \"\\n\")"
   ]
  },
  {
   "cell_type": "markdown",
   "id": "d21635cd-7d57-45ef-90bd-b7d54b54ef63",
   "metadata": {},
   "source": [
    "#### SOAL : Lakukan standarisasi pada dataset (buatlah copy dataset terlebih dahulu)"
   ]
  },
  {
   "cell_type": "markdown",
   "id": "0a8b2409-098a-426f-ba3f-53e5f8ab03a0",
   "metadata": {},
   "source": [
    "##### Standarisasi"
   ]
  },
  {
   "cell_type": "code",
   "execution_count": 100,
   "id": "c5feb96f-6995-4ef5-b9f2-b2cfbe2680da",
   "metadata": {},
   "outputs": [],
   "source": [
    "from sklearn.preprocessing import StandardScaler"
   ]
  },
  {
   "cell_type": "code",
   "execution_count": 101,
   "id": "30f72ccb-eb1c-4308-b907-4ca3792b130f",
   "metadata": {},
   "outputs": [
    {
     "data": {
      "text/plain": [
       "model            object\n",
       "year              int64\n",
       "price             int64\n",
       "transmission     object\n",
       "mileage           int64\n",
       "fuelType         object\n",
       "tax             float64\n",
       "mpg             float64\n",
       "engineSize      float64\n",
       "dtype: object"
      ]
     },
     "execution_count": 101,
     "metadata": {},
     "output_type": "execute_result"
    }
   ],
   "source": [
    "df_ss = df.copy()\n",
    "df_ss.dtypes"
   ]
  },
  {
   "cell_type": "code",
   "execution_count": 102,
   "id": "fc088799-1c86-4623-8d22-414960261042",
   "metadata": {},
   "outputs": [
    {
     "name": "stdout",
     "output_type": "stream",
     "text": [
      "Kolom price sebelum standarisasi:\n",
      "Mean:  12269.261872684405\n",
      "Standar Deviasi:  4736.122576097706 \n",
      "\n",
      "Kolom price setelah standarisasi:\n",
      "Mean:  0.21604150225109\n",
      "Standar Deviasi:  0.08690133167151755 \n",
      "\n"
     ]
    }
   ],
   "source": [
    "ss =  StandardScaler()\n",
    "df_ss[['price']] = mm.fit_transform(df_ss[['price']])\n",
    "\n",
    "print(\"Kolom price sebelum standarisasi:\")\n",
    "print(\"Mean: \", df['price'].mean())\n",
    "print(\"Standar Deviasi: \",df['price'].std(), \"\\n\")\n",
    "\n",
    "print(\"Kolom price setelah standarisasi:\")\n",
    "print(\"Mean: \", df_ss['price'].mean())\n",
    "print(\"Standar Deviasi: \",df_ss['price'].std(), \"\\n\")"
   ]
  },
  {
   "cell_type": "markdown",
   "id": "6c07a7fb-d7fb-4284-bbbd-0cc8b24dc26c",
   "metadata": {},
   "source": [
    "#### SOAL : Ganti tipe data salah satu attribute angka"
   ]
  },
  {
   "cell_type": "code",
   "execution_count": 107,
   "id": "2128f291-6d85-4db6-b8ba-ebca53601038",
   "metadata": {},
   "outputs": [],
   "source": [
    "df['mileage'] = df['mileage'].astype('float')"
   ]
  },
  {
   "cell_type": "code",
   "execution_count": 108,
   "id": "286a89f4-1ccd-4784-a836-61233300134c",
   "metadata": {},
   "outputs": [
    {
     "data": {
      "text/plain": [
       "model            object\n",
       "year              int64\n",
       "price             int64\n",
       "transmission     object\n",
       "mileage         float64\n",
       "fuelType         object\n",
       "tax             float64\n",
       "mpg             float64\n",
       "engineSize      float64\n",
       "dtype: object"
      ]
     },
     "execution_count": 108,
     "metadata": {},
     "output_type": "execute_result"
    }
   ],
   "source": [
    "df.dtypes"
   ]
  },
  {
   "cell_type": "markdown",
   "id": "cb7ae1c4-c3bb-47c2-8091-030f6dcd5749",
   "metadata": {},
   "source": [
    "## Encoding"
   ]
  },
  {
   "cell_type": "markdown",
   "id": "de73a22c-1ff8-47e4-8c30-6b7c6ac4b018",
   "metadata": {},
   "source": [
    "#### SOAL : Lakukan one hot encoding pada dataset yang kalian miliki"
   ]
  },
  {
   "cell_type": "code",
   "execution_count": 109,
   "id": "d3504225-1afe-47f3-ba09-c239b560366c",
   "metadata": {},
   "outputs": [],
   "source": [
    "from sklearn.preprocessing import OneHotEncoder"
   ]
  },
  {
   "cell_type": "code",
   "execution_count": 116,
   "id": "d7598a06-96e9-46dc-a6c8-75856a00d58d",
   "metadata": {},
   "outputs": [
    {
     "data": {
      "text/html": [
       "<div>\n",
       "<style scoped>\n",
       "    .dataframe tbody tr th:only-of-type {\n",
       "        vertical-align: middle;\n",
       "    }\n",
       "\n",
       "    .dataframe tbody tr th {\n",
       "        vertical-align: top;\n",
       "    }\n",
       "\n",
       "    .dataframe thead th {\n",
       "        text-align: right;\n",
       "    }\n",
       "</style>\n",
       "<table border=\"1\" class=\"dataframe\">\n",
       "  <thead>\n",
       "    <tr style=\"text-align: right;\">\n",
       "      <th></th>\n",
       "      <th>Diesel</th>\n",
       "      <th>Electric</th>\n",
       "      <th>Hybrid</th>\n",
       "      <th>Other</th>\n",
       "      <th>Petrol</th>\n",
       "    </tr>\n",
       "  </thead>\n",
       "  <tbody>\n",
       "    <tr>\n",
       "      <th>0</th>\n",
       "      <td>False</td>\n",
       "      <td>False</td>\n",
       "      <td>False</td>\n",
       "      <td>False</td>\n",
       "      <td>True</td>\n",
       "    </tr>\n",
       "    <tr>\n",
       "      <th>1</th>\n",
       "      <td>False</td>\n",
       "      <td>False</td>\n",
       "      <td>False</td>\n",
       "      <td>False</td>\n",
       "      <td>True</td>\n",
       "    </tr>\n",
       "    <tr>\n",
       "      <th>2</th>\n",
       "      <td>False</td>\n",
       "      <td>False</td>\n",
       "      <td>False</td>\n",
       "      <td>False</td>\n",
       "      <td>True</td>\n",
       "    </tr>\n",
       "    <tr>\n",
       "      <th>3</th>\n",
       "      <td>False</td>\n",
       "      <td>False</td>\n",
       "      <td>False</td>\n",
       "      <td>False</td>\n",
       "      <td>True</td>\n",
       "    </tr>\n",
       "    <tr>\n",
       "      <th>4</th>\n",
       "      <td>False</td>\n",
       "      <td>False</td>\n",
       "      <td>False</td>\n",
       "      <td>False</td>\n",
       "      <td>True</td>\n",
       "    </tr>\n",
       "    <tr>\n",
       "      <th>...</th>\n",
       "      <td>...</td>\n",
       "      <td>...</td>\n",
       "      <td>...</td>\n",
       "      <td>...</td>\n",
       "      <td>...</td>\n",
       "    </tr>\n",
       "    <tr>\n",
       "      <th>17961</th>\n",
       "      <td>False</td>\n",
       "      <td>False</td>\n",
       "      <td>False</td>\n",
       "      <td>False</td>\n",
       "      <td>True</td>\n",
       "    </tr>\n",
       "    <tr>\n",
       "      <th>17962</th>\n",
       "      <td>False</td>\n",
       "      <td>False</td>\n",
       "      <td>False</td>\n",
       "      <td>False</td>\n",
       "      <td>True</td>\n",
       "    </tr>\n",
       "    <tr>\n",
       "      <th>17963</th>\n",
       "      <td>True</td>\n",
       "      <td>False</td>\n",
       "      <td>False</td>\n",
       "      <td>False</td>\n",
       "      <td>False</td>\n",
       "    </tr>\n",
       "    <tr>\n",
       "      <th>17964</th>\n",
       "      <td>False</td>\n",
       "      <td>False</td>\n",
       "      <td>False</td>\n",
       "      <td>False</td>\n",
       "      <td>True</td>\n",
       "    </tr>\n",
       "    <tr>\n",
       "      <th>17965</th>\n",
       "      <td>False</td>\n",
       "      <td>False</td>\n",
       "      <td>False</td>\n",
       "      <td>False</td>\n",
       "      <td>True</td>\n",
       "    </tr>\n",
       "  </tbody>\n",
       "</table>\n",
       "<p>17814 rows × 5 columns</p>\n",
       "</div>"
      ],
      "text/plain": [
       "       Diesel  Electric  Hybrid  Other  Petrol\n",
       "0       False     False   False  False    True\n",
       "1       False     False   False  False    True\n",
       "2       False     False   False  False    True\n",
       "3       False     False   False  False    True\n",
       "4       False     False   False  False    True\n",
       "...       ...       ...     ...    ...     ...\n",
       "17961   False     False   False  False    True\n",
       "17962   False     False   False  False    True\n",
       "17963    True     False   False  False   False\n",
       "17964   False     False   False  False    True\n",
       "17965   False     False   False  False    True\n",
       "\n",
       "[17814 rows x 5 columns]"
      ]
     },
     "execution_count": 116,
     "metadata": {},
     "output_type": "execute_result"
    }
   ],
   "source": [
    "pd.get_dummies(df['fuelType'].replace(False,0).replace(True,1))\n"
   ]
  }
 ],
 "metadata": {
  "kernelspec": {
   "display_name": "Python 3 (ipykernel)",
   "language": "python",
   "name": "python3"
  },
  "language_info": {
   "codemirror_mode": {
    "name": "ipython",
    "version": 3
   },
   "file_extension": ".py",
   "mimetype": "text/x-python",
   "name": "python",
   "nbconvert_exporter": "python",
   "pygments_lexer": "ipython3",
   "version": "3.10.7"
  }
 },
 "nbformat": 4,
 "nbformat_minor": 5
}
